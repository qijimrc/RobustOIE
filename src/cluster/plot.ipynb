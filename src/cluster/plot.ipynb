{
 "cells": [
  {
   "cell_type": "code",
   "execution_count": 1,
   "id": "76890c8b",
   "metadata": {},
   "outputs": [],
   "source": [
    "from matplotlib import pyplot as plt"
   ]
  },
  {
   "cell_type": "code",
   "execution_count": 84,
   "id": "a0402f26",
   "metadata": {},
   "outputs": [],
   "source": [
    "# Copy results hare\n",
    "idx = [2, 1, 0+3, 5, 4] # recored the correspondence to cluter indices\n",
    "cnt = [625, 276, 248, 125, 8]\n",
    "dis = [0.227, 0.386, 0.468, 0.541, 0.665]\n",
    "F1 = [0.553, 0.514, 0.500, 0.479, 0.470]"
   ]
  },
  {
   "cell_type": "code",
   "execution_count": null,
   "id": "61a8c8bf",
   "metadata": {},
   "outputs": [],
   "source": [
    "fig, ax1 = plt.subplots(dpi=1000)\n",
    "\n",
    "# bar chart\n",
    "l1 = ax1.bar(x, cnt, color='#6495ED', width=0.5, label='Count')\n",
    "ax1.set_yticks([])\n",
    "for rect in l1:\n",
    "    ax1.text(rect.get_x()+0.27, rect.get_height(),\n",
    "             rect.get_height(), ha='center', va='bottom')\n",
    "\n",
    "ax2 = ax1.twinx()\n",
    "# line chart\n",
    "l2, = ax2.plot(x, F1, 'r-', label='F1 score', linewidth=2)\n",
    "ax1.tick_params(axis='y')\n",
    "# ax2.set_ylabel('F1 score', fontsize=12)\n",
    "ax2.set_ylabel('F1 score')\n",
    "ax2.yaxis.set_label_position(\"left\")\n",
    "\n",
    "ax3 = ax2.twinx()\n",
    "l3, = ax3.plot(x, dis, 'b-', label='Distance', linewidth=2)\n",
    "ax3.set_ylabel('Distance')\n",
    "\n",
    "plt.legend(handles=[l1, l2, l3], loc='lower center',\n",
    "           frameon=False, bbox_to_anchor=(0.5, -0.2), ncol=3)\n",
    "\n",
    "# plt.show()\n",
    "plt.savefig(\"temp.png\", dpi=1000)"
   ]
  },
  {
   "cell_type": "code",
   "execution_count": null,
   "id": "8c3b9919",
   "metadata": {},
   "outputs": [],
   "source": []
  }
 ],
 "metadata": {
  "kernelspec": {
   "display_name": "Python 3 (ipykernel)",
   "language": "python",
   "name": "python3"
  },
  "language_info": {
   "codemirror_mode": {
    "name": "ipython",
    "version": 3
   },
   "file_extension": ".py",
   "mimetype": "text/x-python",
   "name": "python",
   "nbconvert_exporter": "python",
   "pygments_lexer": "ipython3",
   "version": "3.7.10"
  }
 },
 "nbformat": 4,
 "nbformat_minor": 5
}
